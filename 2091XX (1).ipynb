{
 "cells": [
  {
   "cell_type": "code",
   "execution_count": 26,
   "id": "7307395d-fcfc-481b-aee2-8b63b2cfd95f",
   "metadata": {},
   "outputs": [],
   "source": [
    "#Import standard data science, machine learning and data analytics libraries and packages\n",
    "import numpy as np\n",
    "import pandas as pd\n",
    "from pandas import Series, DataFrame\n",
    "import seaborn as sns\n",
    "import matplotlib.pyplot as plt\n",
    "%matplotlib inline\n",
    "import pylab\n",
    "from pylab import rcParams\n",
    "import statsmodels.api as sm\n",
    "import statistics\n",
    "from scipy import stats\n",
    "import sklearn\n",
    "from sklearn import preprocessing\n",
    "from sklearn.linear_model import LinearRegression\n",
    "from sklearn.model_selection import train_test_split\n",
    "from sklearn import metrics\n",
    "from sklearn.metrics import classification_report\n",
    "from scipy.stats import chisquare\n",
    "from scipy.stats import chi2_contingency"
   ]
  },
  {
   "cell_type": "code",
   "execution_count": 31,
   "id": "203951b1-25a7-4bce-9c3c-5db165bb0b54",
   "metadata": {},
   "outputs": [],
   "source": [
    "#load dataframe\n",
    "df= pd.read_csv(r'C:\\Users\\danie\\Downloads\\d9rkejv84kd9rk30fi2l (2)\\churn_clean.csv')"
   ]
  },
  {
   "cell_type": "code",
   "execution_count": 32,
   "id": "3b005d03-cbe5-4d44-9d74-d24e55626baa",
   "metadata": {},
   "outputs": [],
   "source": [
    "#Drop unnecessary columns\n",
    "df= df.drop(columns= ['City', 'State','County','Zip','Lat','Lng',\n",
    "                   'Population', 'Area', 'TimeZone', 'Job', 'Marital', 'Outage_sec_perweek', 'Email', 'Contacts', 'Yearly_equip_failure', 'Techie', 'Contract', 'Port_modem', 'Tablet', \n",
    "                   'InternetService', 'Phone', 'Multiple', 'OnlineSecurity', 'OnlineBackup', 'DeviceProtection', 'TechSupport', 'StreamingMovies', 'PaperlessBilling', \n",
    "                   'Tenure', 'MonthlyCharge', 'Item1', 'Item2', 'Item3', 'Item4', 'Item5', 'Item6', 'Item7', 'Item8','PaymentMethod','UID','CaseOrder', 'Customer_id', 'Interaction'])"
   ]
  },
  {
   "cell_type": "code",
   "execution_count": 33,
   "id": "ce7e7631-e510-41e8-ac81-5d594108c960",
   "metadata": {},
   "outputs": [
    {
     "data": {
      "text/html": [
       "<div>\n",
       "<style scoped>\n",
       "    .dataframe tbody tr th:only-of-type {\n",
       "        vertical-align: middle;\n",
       "    }\n",
       "\n",
       "    .dataframe tbody tr th {\n",
       "        vertical-align: top;\n",
       "    }\n",
       "\n",
       "    .dataframe thead th {\n",
       "        text-align: right;\n",
       "    }\n",
       "</style>\n",
       "<table border=\"1\" class=\"dataframe\">\n",
       "  <thead>\n",
       "    <tr style=\"text-align: right;\">\n",
       "      <th></th>\n",
       "      <th>Children</th>\n",
       "      <th>Age</th>\n",
       "      <th>Income</th>\n",
       "      <th>Bandwidth_GB_Year</th>\n",
       "    </tr>\n",
       "  </thead>\n",
       "  <tbody>\n",
       "    <tr>\n",
       "      <th>count</th>\n",
       "      <td>10000.0000</td>\n",
       "      <td>10000.000000</td>\n",
       "      <td>10000.000000</td>\n",
       "      <td>10000.000000</td>\n",
       "    </tr>\n",
       "    <tr>\n",
       "      <th>mean</th>\n",
       "      <td>2.0877</td>\n",
       "      <td>53.078400</td>\n",
       "      <td>39806.926771</td>\n",
       "      <td>3392.341550</td>\n",
       "    </tr>\n",
       "    <tr>\n",
       "      <th>std</th>\n",
       "      <td>2.1472</td>\n",
       "      <td>20.698882</td>\n",
       "      <td>28199.916702</td>\n",
       "      <td>2185.294852</td>\n",
       "    </tr>\n",
       "    <tr>\n",
       "      <th>min</th>\n",
       "      <td>0.0000</td>\n",
       "      <td>18.000000</td>\n",
       "      <td>348.670000</td>\n",
       "      <td>155.506715</td>\n",
       "    </tr>\n",
       "    <tr>\n",
       "      <th>25%</th>\n",
       "      <td>0.0000</td>\n",
       "      <td>35.000000</td>\n",
       "      <td>19224.717500</td>\n",
       "      <td>1236.470827</td>\n",
       "    </tr>\n",
       "    <tr>\n",
       "      <th>50%</th>\n",
       "      <td>1.0000</td>\n",
       "      <td>53.000000</td>\n",
       "      <td>33170.605000</td>\n",
       "      <td>3279.536903</td>\n",
       "    </tr>\n",
       "    <tr>\n",
       "      <th>75%</th>\n",
       "      <td>3.0000</td>\n",
       "      <td>71.000000</td>\n",
       "      <td>53246.170000</td>\n",
       "      <td>5586.141370</td>\n",
       "    </tr>\n",
       "    <tr>\n",
       "      <th>max</th>\n",
       "      <td>10.0000</td>\n",
       "      <td>89.000000</td>\n",
       "      <td>258900.700000</td>\n",
       "      <td>7158.981530</td>\n",
       "    </tr>\n",
       "  </tbody>\n",
       "</table>\n",
       "</div>"
      ],
      "text/plain": [
       "         Children           Age         Income  Bandwidth_GB_Year\n",
       "count  10000.0000  10000.000000   10000.000000       10000.000000\n",
       "mean       2.0877     53.078400   39806.926771        3392.341550\n",
       "std        2.1472     20.698882   28199.916702        2185.294852\n",
       "min        0.0000     18.000000     348.670000         155.506715\n",
       "25%        0.0000     35.000000   19224.717500        1236.470827\n",
       "50%        1.0000     53.000000   33170.605000        3279.536903\n",
       "75%        3.0000     71.000000   53246.170000        5586.141370\n",
       "max       10.0000     89.000000  258900.700000        7158.981530"
      ]
     },
     "execution_count": 33,
     "metadata": {},
     "output_type": "execute_result"
    }
   ],
   "source": [
    "df.describe()"
   ]
  },
  {
   "cell_type": "code",
   "execution_count": 34,
   "id": "213143fa-58be-4e7d-be39-c7f7aaaf9d36",
   "metadata": {},
   "outputs": [
    {
     "data": {
      "text/plain": [
       "(10000, 7)"
      ]
     },
     "execution_count": 34,
     "metadata": {},
     "output_type": "execute_result"
    }
   ],
   "source": [
    "df.shape"
   ]
  },
  {
   "cell_type": "code",
   "execution_count": 35,
   "id": "fef9f15a-e108-4697-8f35-151e370101f0",
   "metadata": {},
   "outputs": [
    {
     "data": {
      "text/html": [
       "<div>\n",
       "<style scoped>\n",
       "    .dataframe tbody tr th:only-of-type {\n",
       "        vertical-align: middle;\n",
       "    }\n",
       "\n",
       "    .dataframe tbody tr th {\n",
       "        vertical-align: top;\n",
       "    }\n",
       "\n",
       "    .dataframe thead th {\n",
       "        text-align: right;\n",
       "    }\n",
       "</style>\n",
       "<table border=\"1\" class=\"dataframe\">\n",
       "  <thead>\n",
       "    <tr style=\"text-align: right;\">\n",
       "      <th></th>\n",
       "      <th>Children</th>\n",
       "      <th>Age</th>\n",
       "      <th>Income</th>\n",
       "      <th>Gender</th>\n",
       "      <th>Churn</th>\n",
       "      <th>StreamingTV</th>\n",
       "      <th>Bandwidth_GB_Year</th>\n",
       "    </tr>\n",
       "  </thead>\n",
       "  <tbody>\n",
       "    <tr>\n",
       "      <th>0</th>\n",
       "      <td>0</td>\n",
       "      <td>68</td>\n",
       "      <td>28561.99</td>\n",
       "      <td>Male</td>\n",
       "      <td>No</td>\n",
       "      <td>No</td>\n",
       "      <td>904.536110</td>\n",
       "    </tr>\n",
       "    <tr>\n",
       "      <th>1</th>\n",
       "      <td>1</td>\n",
       "      <td>27</td>\n",
       "      <td>21704.77</td>\n",
       "      <td>Female</td>\n",
       "      <td>Yes</td>\n",
       "      <td>Yes</td>\n",
       "      <td>800.982766</td>\n",
       "    </tr>\n",
       "    <tr>\n",
       "      <th>2</th>\n",
       "      <td>4</td>\n",
       "      <td>50</td>\n",
       "      <td>9609.57</td>\n",
       "      <td>Female</td>\n",
       "      <td>No</td>\n",
       "      <td>No</td>\n",
       "      <td>2054.706961</td>\n",
       "    </tr>\n",
       "    <tr>\n",
       "      <th>3</th>\n",
       "      <td>1</td>\n",
       "      <td>48</td>\n",
       "      <td>18925.23</td>\n",
       "      <td>Male</td>\n",
       "      <td>No</td>\n",
       "      <td>Yes</td>\n",
       "      <td>2164.579412</td>\n",
       "    </tr>\n",
       "    <tr>\n",
       "      <th>4</th>\n",
       "      <td>0</td>\n",
       "      <td>83</td>\n",
       "      <td>40074.19</td>\n",
       "      <td>Male</td>\n",
       "      <td>Yes</td>\n",
       "      <td>Yes</td>\n",
       "      <td>271.493436</td>\n",
       "    </tr>\n",
       "  </tbody>\n",
       "</table>\n",
       "</div>"
      ],
      "text/plain": [
       "   Children  Age    Income  Gender Churn StreamingTV  Bandwidth_GB_Year\n",
       "0         0   68  28561.99    Male    No          No         904.536110\n",
       "1         1   27  21704.77  Female   Yes         Yes         800.982766\n",
       "2         4   50   9609.57  Female    No          No        2054.706961\n",
       "3         1   48  18925.23    Male    No         Yes        2164.579412\n",
       "4         0   83  40074.19    Male   Yes         Yes         271.493436"
      ]
     },
     "execution_count": 35,
     "metadata": {},
     "output_type": "execute_result"
    }
   ],
   "source": [
    "df.head()"
   ]
  },
  {
   "cell_type": "code",
   "execution_count": 36,
   "id": "6d1bc2f9-5384-4368-b126-90acebb7b658",
   "metadata": {},
   "outputs": [
    {
     "name": "stdout",
     "output_type": "stream",
     "text": [
      "Children             0\n",
      "Age                  0\n",
      "Income               0\n",
      "Gender               0\n",
      "Churn                0\n",
      "StreamingTV          0\n",
      "Bandwidth_GB_Year    0\n",
      "dtype: int64\n"
     ]
    }
   ],
   "source": [
    "# Discover missing data points within dataset\n",
    "df_nulls = df.isnull().sum()\n",
    "print(df_nulls)"
   ]
  },
  {
   "cell_type": "code",
   "execution_count": 37,
   "id": "b59d5322-b959-4576-b166-831a85e3b10a",
   "metadata": {},
   "outputs": [
    {
     "name": "stdout",
     "output_type": "stream",
     "text": [
      "<class 'pandas.core.frame.DataFrame'>\n",
      "RangeIndex: 10000 entries, 0 to 9999\n",
      "Data columns (total 7 columns):\n",
      " #   Column             Non-Null Count  Dtype  \n",
      "---  ------             --------------  -----  \n",
      " 0   Children           10000 non-null  int64  \n",
      " 1   Age                10000 non-null  int64  \n",
      " 2   Income             10000 non-null  float64\n",
      " 3   Gender             10000 non-null  object \n",
      " 4   Churn              10000 non-null  object \n",
      " 5   StreamingTV        10000 non-null  object \n",
      " 6   Bandwidth_GB_Year  10000 non-null  float64\n",
      "dtypes: float64(2), int64(2), object(3)\n",
      "memory usage: 547.0+ KB\n"
     ]
    }
   ],
   "source": [
    "df.info()"
   ]
  },
  {
   "cell_type": "code",
   "execution_count": 38,
   "id": "7baadad4-3f98-440f-a674-d912d0d7a869",
   "metadata": {},
   "outputs": [
    {
     "data": {
      "text/html": [
       "<div>\n",
       "<style scoped>\n",
       "    .dataframe tbody tr th:only-of-type {\n",
       "        vertical-align: middle;\n",
       "    }\n",
       "\n",
       "    .dataframe tbody tr th {\n",
       "        vertical-align: top;\n",
       "    }\n",
       "\n",
       "    .dataframe thead th {\n",
       "        text-align: right;\n",
       "    }\n",
       "</style>\n",
       "<table border=\"1\" class=\"dataframe\">\n",
       "  <thead>\n",
       "    <tr style=\"text-align: right;\">\n",
       "      <th></th>\n",
       "      <th>Children</th>\n",
       "      <th>Age</th>\n",
       "      <th>Income</th>\n",
       "      <th>Bandwidth_GB_Year</th>\n",
       "    </tr>\n",
       "  </thead>\n",
       "  <tbody>\n",
       "    <tr>\n",
       "      <th>count</th>\n",
       "      <td>10000.0000</td>\n",
       "      <td>10000.000000</td>\n",
       "      <td>10000.000000</td>\n",
       "      <td>10000.000000</td>\n",
       "    </tr>\n",
       "    <tr>\n",
       "      <th>mean</th>\n",
       "      <td>2.0877</td>\n",
       "      <td>53.078400</td>\n",
       "      <td>39806.926771</td>\n",
       "      <td>3392.341550</td>\n",
       "    </tr>\n",
       "    <tr>\n",
       "      <th>std</th>\n",
       "      <td>2.1472</td>\n",
       "      <td>20.698882</td>\n",
       "      <td>28199.916702</td>\n",
       "      <td>2185.294852</td>\n",
       "    </tr>\n",
       "    <tr>\n",
       "      <th>min</th>\n",
       "      <td>0.0000</td>\n",
       "      <td>18.000000</td>\n",
       "      <td>348.670000</td>\n",
       "      <td>155.506715</td>\n",
       "    </tr>\n",
       "    <tr>\n",
       "      <th>25%</th>\n",
       "      <td>0.0000</td>\n",
       "      <td>35.000000</td>\n",
       "      <td>19224.717500</td>\n",
       "      <td>1236.470827</td>\n",
       "    </tr>\n",
       "    <tr>\n",
       "      <th>50%</th>\n",
       "      <td>1.0000</td>\n",
       "      <td>53.000000</td>\n",
       "      <td>33170.605000</td>\n",
       "      <td>3279.536903</td>\n",
       "    </tr>\n",
       "    <tr>\n",
       "      <th>75%</th>\n",
       "      <td>3.0000</td>\n",
       "      <td>71.000000</td>\n",
       "      <td>53246.170000</td>\n",
       "      <td>5586.141370</td>\n",
       "    </tr>\n",
       "    <tr>\n",
       "      <th>max</th>\n",
       "      <td>10.0000</td>\n",
       "      <td>89.000000</td>\n",
       "      <td>258900.700000</td>\n",
       "      <td>7158.981530</td>\n",
       "    </tr>\n",
       "  </tbody>\n",
       "</table>\n",
       "</div>"
      ],
      "text/plain": [
       "         Children           Age         Income  Bandwidth_GB_Year\n",
       "count  10000.0000  10000.000000   10000.000000       10000.000000\n",
       "mean       2.0877     53.078400   39806.926771        3392.341550\n",
       "std        2.1472     20.698882   28199.916702        2185.294852\n",
       "min        0.0000     18.000000     348.670000         155.506715\n",
       "25%        0.0000     35.000000   19224.717500        1236.470827\n",
       "50%        1.0000     53.000000   33170.605000        3279.536903\n",
       "75%        3.0000     71.000000   53246.170000        5586.141370\n",
       "max       10.0000     89.000000  258900.700000        7158.981530"
      ]
     },
     "execution_count": 38,
     "metadata": {},
     "output_type": "execute_result"
    }
   ],
   "source": [
    "df.describe()"
   ]
  },
  {
   "cell_type": "code",
   "execution_count": 39,
   "id": "13709bdf-ca1f-4444-826f-4b018687d845",
   "metadata": {},
   "outputs": [
    {
     "name": "stdout",
     "output_type": "stream",
     "text": [
      "      Children  Age    Income  Gender Churn StreamingTV  Bandwidth_GB_Year\n",
      "0            0   68  28561.99    Male    No          No         904.536110\n",
      "1            1   27  21704.77  Female   Yes         Yes         800.982766\n",
      "2            4   50   9609.57  Female    No          No        2054.706961\n",
      "3            1   48  18925.23    Male    No         Yes        2164.579412\n",
      "4            0   83  40074.19    Male   Yes         Yes         271.493436\n",
      "...        ...  ...       ...     ...   ...         ...                ...\n",
      "9995         3   23  55723.74    Male    No          No        6511.252601\n",
      "9996         4   48  34129.34    Male    No         Yes        5695.951810\n",
      "9997         1   48  45983.43  Female    No          No        4159.305799\n",
      "9998         1   39  16667.58    Male    No         Yes        6468.456752\n",
      "9999         1   28   9020.92    Male    No          No        5857.586167\n",
      "\n",
      "[10000 rows x 7 columns]\n"
     ]
    }
   ],
   "source": [
    "print(df)"
   ]
  },
  {
   "cell_type": "code",
   "execution_count": 40,
   "id": "2ab9b9cc-241f-4d62-95aa-f75f8ee72ba8",
   "metadata": {},
   "outputs": [],
   "source": [
    "#Create churn dummy variable\n",
    "df['churn_dummy'] = [1 if v == 'Yes' else 0 for v in df['Churn']]"
   ]
  },
  {
   "cell_type": "code",
   "execution_count": 41,
   "id": "fb2aa02f-41ea-4257-a5a7-1713a3304dfb",
   "metadata": {},
   "outputs": [
    {
     "data": {
      "image/png": "[encoded data removed]",
      "text/plain": [
       "<Figure size 432x288 with 4 Axes>"
      ]
     },
     "metadata": {
      "needs_background": "light"
     },
     "output_type": "display_data"
    }
   ],
   "source": [
    "#Create univariate visualization ---histogram\n",
    "df[['Children', 'Age', 'Income','Bandwidth_GB_Year']].hist()\n",
    "plt.tight_layout()"
   ]
  },
  {
   "cell_type": "code",
   "execution_count": 42,
   "id": "158e24a6-3676-4bb4-a6c5-e128e2312705",
   "metadata": {},
   "outputs": [
    {
     "name": "stdout",
     "output_type": "stream",
     "text": [
      "Features for analysis include: \n",
      " ['Children', 'Age', 'Income', 'Gender', 'Churn', 'StreamingTV', 'Bandwidth_GB_Year']\n"
     ]
    }
   ],
   "source": [
    "# List features for analysis\n",
    "features = (list(df.columns[:-1]))\n",
    "print('Features for analysis include: \\n', features)"
   ]
  },
  {
   "cell_type": "code",
   "execution_count": 43,
   "id": "0e5b5f55-4e8f-4e6a-83ac-000d984d6343",
   "metadata": {},
   "outputs": [
    {
     "name": "stdout",
     "output_type": "stream",
     "text": [
      "      Unnamed: 0  CaseOrder Customer_id                           Interaction  \\\n",
      "0              0          1     K409198  aa90260b-4141-4a24-8e36-b04ce1f4f77b   \n",
      "1              1          2     S120509  fb76459f-c047-4a9d-8af9-e0f7d4ac2524   \n",
      "2              2          3     K191035  344d114c-3736-4be5-98f7-c72c281e2d35   \n",
      "3              3          4      D90850  abfa2b40-2d43-4994-b15a-989b8c79e311   \n",
      "4              4          5     K662701  68a861fd-0d20-4e51-a587-8a90407ee574   \n",
      "...          ...        ...         ...                                   ...   \n",
      "9955        9995       9996     M324793  45deb5a2-ae04-4518-bf0b-c82db8dbe4a4   \n",
      "9956        9996       9997     D861732  6e96b921-0c09-4993-bbda-a1ac6411061a   \n",
      "9957        9997       9998     I243405  e8307ddf-9a01-4fff-bc59-4742e03fd24f   \n",
      "9958        9998       9999     I641617  3775ccfc-0052-4107-81ae-9657f81ecdf3   \n",
      "9959        9999      10000      T38070  9de5fb6e-bd33-4995-aec8-f01d0172a499   \n",
      "\n",
      "                                   UID  Children  Age    Income  Gender Churn  \\\n",
      "0     e885b299883d4f9fb18e39c75155d990         0   68  28561.99    Male    No   \n",
      "1     f2de8bef964785f41a2959829830fb8a         1   27  21704.77  Female   Yes   \n",
      "2     f1784cfa9f6d92ae816197eb175d3c71         4   50   9609.57  Female    No   \n",
      "3     dc8a365077241bb5cd5ccd305136b05e         1   48  18925.23    Male    No   \n",
      "4     aabb64a116e83fdc4befc1fbab1663f9         0   83  40074.19    Male   Yes   \n",
      "...                                ...       ...  ...       ...     ...   ...   \n",
      "9955  9499fb4de537af195d16d046b79fd20a         3   23  55723.74    Male    No   \n",
      "9956  c09a841117fa81b5c8e19afec2760104         4   48  34129.34    Male    No   \n",
      "9957  9c41f212d1e04dca84445019bbc9b41c         1   48  45983.43  Female    No   \n",
      "9958  3e1f269b40c235a1038863ecf6b7a0df         1   39  16667.58    Male    No   \n",
      "9959  0ea683a03a3cd544aefe8388aab16176         1   28   9020.92    Male    No   \n",
      "\n",
      "     StreamingTV  Bandwidth_GB_Year  \n",
      "0             No         904.536110  \n",
      "1            Yes         800.982766  \n",
      "2             No        2054.706961  \n",
      "3            Yes        2164.579412  \n",
      "4            Yes         271.493436  \n",
      "...          ...                ...  \n",
      "9955          No        6511.252601  \n",
      "9956         Yes        5695.951810  \n",
      "9957          No        4159.305799  \n",
      "9958         Yes        6468.456752  \n",
      "9959          No        5857.586167  \n",
      "\n",
      "[9960 rows x 12 columns]\n"
     ]
    }
   ],
   "source": [
    "# Extract Clean dataset\n",
    "df = pd.read_csv('churn_prepared.csv')\n",
    "print(df)"
   ]
  },
  {
   "cell_type": "code",
   "execution_count": 44,
   "id": "d805b2ad-2a9d-4c46-a463-a265a5d7ca76",
   "metadata": {},
   "outputs": [],
   "source": [
    "#Create dummy variables\n",
    "df['gender_dummy'] = [1 if v == 'Female' else 0 for v in df['Gender']]\n",
    "df['churn_dummy'] = [1 if v == 'Yes' else 0 for v in df['Churn']]\n"
   ]
  },
  {
   "cell_type": "code",
   "execution_count": 69,
   "id": "58e6efa5-86c5-439d-bd38-21fd8e9fddd4",
   "metadata": {},
   "outputs": [
    {
     "name": "stdout",
     "output_type": "stream",
     "text": [
      "Accuracy: 0.7128514056224899\n"
     ]
    }
   ],
   "source": [
    "#Perform Classification Analysis with the KNN model\n",
    "\n",
    "# Import required libraries\n",
    "from sklearn.neighbors import KNeighborsClassifier\n",
    "from sklearn.model_selection import cross_val_score,  train_test_split\n",
    "from sklearn.metrics import accuracy_score\n",
    "\n",
    "# Load the data\n",
    "df = pd.read_csv(r\"C:\\Users\\danie\\OneDrive\\Desktop\\WGU\\209\\churn_prepared.xls\")\n",
    "df['gender_dummy'] = [1 if v == 'Female' else 0 for v in df['Gender']]\n",
    "df['churn_dummy'] = [1 if v == 'Yes' else 0 for v in df['Churn']]\n",
    "\n",
    "X = df[['Children', 'Age', 'Income', 'Bandwidth_GB_Year']].values\n",
    "y = df['churn_dummy'].astype(int)\n",
    "\n",
    "# Split the data into training and test sets\n",
    "X_train, X_test, y_train, y_test = train_test_split(X, y, train_size=.8, test_size=0.20, random_state=15)\n",
    "\n",
    "# Define the model\n",
    "knn = KNeighborsClassifier(n_neighbors=7)\n",
    "\n",
    "# Fit the model on the training data\n",
    "knn.fit(X_train, y_train)\n",
    "\n",
    "# Evaluate the model on the test data\n",
    "accuracy = knn.score(X_test, y_test)\n",
    "print('Accuracy:', accuracy)\n",
    "\n",
    "\n"
   ]
  },
  {
   "cell_type": "code",
   "execution_count": 67,
   "id": "4108516c-8aea-4588-9dc6-38340b257e63",
   "metadata": {},
   "outputs": [],
   "source": [
    "# KNN model \n",
    "knn = KNeighborsClassifier(n_neighbors = 7)\n",
    "\n",
    "# Fit data to KNN model\n",
    "knn.fit(X_train, y_train)\n",
    "\n",
    "# Predict outcomes from test set\n",
    "y_pred = knn.predict(X_test)\n",
    "\n"
   ]
  },
  {
   "cell_type": "code",
   "execution_count": 47,
   "id": "451226f6-a77f-4446-8338-cda19cb0e88c",
   "metadata": {},
   "outputs": [
    {
     "name": "stdout",
     "output_type": "stream",
     "text": [
      "Initial accuracy score KNN model:  0.7128514056224899\n"
     ]
    }
   ],
   "source": [
    "# Print initial accuracy score of KNN model\n",
    "print('Initial accuracy score KNN model: ', accuracy_score(y_test, y_pred))\n"
   ]
  },
  {
   "cell_type": "code",
   "execution_count": 48,
   "id": "8c5de424-2cbd-4807-ac41-0e8f1789080d",
   "metadata": {},
   "outputs": [
    {
     "name": "stdout",
     "output_type": "stream",
     "text": [
      "              precision    recall  f1-score   support\n",
      "\n",
      "           0       0.78      0.84      0.81      1433\n",
      "           1       0.49      0.39      0.43       559\n",
      "\n",
      "    accuracy                           0.71      1992\n",
      "   macro avg       0.63      0.61      0.62      1992\n",
      "weighted avg       0.70      0.71      0.70      1992\n",
      "\n"
     ]
    }
   ],
   "source": [
    "# Compute classification metrics\n",
    "print(classification_report(y_test, y_pred))"
   ]
  },
  {
   "cell_type": "code",
   "execution_count": 50,
   "id": "e9b9be84-b69e-49fb-aac1-5ad63a8bab48",
   "metadata": {},
   "outputs": [
    {
     "name": "stdout",
     "output_type": "stream",
     "text": [
      "[[1204  229]\n",
      " [ 343  216]]\n"
     ]
    }
   ],
   "source": [
    "# Import sklearn confusion_matrix & generate results\n",
    "from sklearn.metrics import confusion_matrix\n",
    "cf_matrix = confusion_matrix(y_test, y_pred)\n",
    "print(cf_matrix)"
   ]
  },
  {
   "cell_type": "code",
   "execution_count": 51,
   "id": "3412fbbd-df9d-46ba-85ca-2065f9e604da",
   "metadata": {},
   "outputs": [
    {
     "data": {
      "text/plain": [
       "GridSearchCV(cv=5, estimator=KNeighborsClassifier(),\n",
       "             param_grid={'n_neighbors': array([ 1,  2,  3,  4,  5,  6,  7,  8,  9, 10, 11, 12, 13, 14, 15, 16, 17,\n",
       "       18, 19, 20, 21, 22, 23, 24, 25, 26, 27, 28, 29, 30, 31, 32, 33, 34,\n",
       "       35, 36, 37, 38, 39, 40, 41, 42, 43, 44, 45, 46, 47, 48, 49])})"
      ]
     },
     "execution_count": 51,
     "metadata": {},
     "output_type": "execute_result"
    }
   ],
   "source": [
    "# Import GridSearchCV for cross validation of model\n",
    "from sklearn.model_selection import GridSearchCV\n",
    "# Set up parameters grid\n",
    "param_grid = {'n_neighbors': np.arange(1, 50)}\n",
    "# Re-intantiate KNN for cross validation\n",
    "knn = KNeighborsClassifier()\n",
    "# Instantiate GridSearch cross validation\n",
    "knn_cv = GridSearchCV(knn , param_grid, cv=5)\n",
    "# Fit model to \n",
    "knn_cv.fit(X_train, y_train)\n"
   ]
  },
  {
   "cell_type": "code",
   "execution_count": 52,
   "id": "d031f41b-6997-416a-883c-5206b7345a4d",
   "metadata": {},
   "outputs": [
    {
     "name": "stdout",
     "output_type": "stream",
     "text": [
      "Best parameters for this KNN model: {'n_neighbors': 28}\n"
     ]
    }
   ],
   "source": [
    "#Print best parameters\n",
    "print('Best parameters for this KNN model: {}'.format(knn_cv.best_params_))"
   ]
  },
  {
   "cell_type": "code",
   "execution_count": 53,
   "id": "f0449cd5-beea-48e9-b16a-0dc616946cf1",
   "metadata": {},
   "outputs": [
    {
     "name": "stdout",
     "output_type": "stream",
     "text": [
      "Best score for this KNN model: 0.735\n"
     ]
    }
   ],
   "source": [
    "# Generate model best score\n",
    "print('Best score for this KNN model: {:.3f}'.format(knn_cv.best_score_))"
   ]
  },
  {
   "cell_type": "code",
   "execution_count": 55,
   "id": "e84b5854-75d9-4ba3-9c2c-37cdbe29b4fc",
   "metadata": {},
   "outputs": [
    {
     "name": "stdout",
     "output_type": "stream",
     "text": [
      "The Area under curve (AUC) on validation dataset is: 0.9394\n"
     ]
    }
   ],
   "source": [
    "#Import ROC AUC metrics for explaining the area under the curve\n",
    "from sklearn.metrics import roc_auc_score\n",
    "# Fit it to the data\n",
    "knn_cv.fit(X, y)\n",
    "# Compute predicted probabilities: y_pred_prob\n",
    "y_pred_prob = knn_cv.predict_proba(X_test)[:,1]\n",
    "# Compute and print AUC score\n",
    "print(\"The Area under curve (AUC) on validation dataset is: {:.4f}\".format(roc_auc_score(y_test, y_pred_prob)))"
   ]
  },
  {
   "cell_type": "code",
   "execution_count": 70,
   "id": "0a466d54-2140-4f05-8331-da8ae1250ab3",
   "metadata": {},
   "outputs": [
    {
     "ename": "AttributeError",
     "evalue": "'numpy.ndarray' object has no attribute 'to_csv'",
     "output_type": "error",
     "traceback": [
      "\u001b[1;31m---------------------------------------------------------------------------\u001b[0m",
      "\u001b[1;31mAttributeError\u001b[0m                            Traceback (most recent call last)",
      "Input \u001b[1;32mIn [70]\u001b[0m, in \u001b[0;36m<cell line: 3>\u001b[1;34m()\u001b[0m\n\u001b[0;32m      1\u001b[0m \u001b[38;5;66;03m#Export files\u001b[39;00m\n\u001b[1;32m----> 3\u001b[0m \u001b[43mX_train\u001b[49m\u001b[38;5;241;43m.\u001b[39;49m\u001b[43mto_csv\u001b[49m(\u001b[38;5;124mr\u001b[39m\u001b[38;5;124m'\u001b[39m\u001b[38;5;124mC:\u001b[39m\u001b[38;5;124m\\\u001b[39m\u001b[38;5;124mUsers\u001b[39m\u001b[38;5;124m\\\u001b[39m\u001b[38;5;124mdanie\u001b[39m\u001b[38;5;124m\\\u001b[39m\u001b[38;5;124mOneDrive\u001b[39m\u001b[38;5;124m\\\u001b[39m\u001b[38;5;124mDesktop\u001b[39m\u001b[38;5;124m\\\u001b[39m\u001b[38;5;124mWGU\u001b[39m\u001b[38;5;124m\\\u001b[39m\u001b[38;5;124m209\u001b[39m\u001b[38;5;124m\\\u001b[39m\u001b[38;5;124mX_train.csv\u001b[39m\u001b[38;5;124m'\u001b[39m)\n\u001b[0;32m      4\u001b[0m y_train\u001b[38;5;241m.\u001b[39mto_csv(\u001b[38;5;124mr\u001b[39m\u001b[38;5;124m'\u001b[39m\u001b[38;5;124mC:\u001b[39m\u001b[38;5;124m\\\u001b[39m\u001b[38;5;124mUsers\u001b[39m\u001b[38;5;124m\\\u001b[39m\u001b[38;5;124mdanie\u001b[39m\u001b[38;5;124m\\\u001b[39m\u001b[38;5;124mOneDrive\u001b[39m\u001b[38;5;124m\\\u001b[39m\u001b[38;5;124mDesktop\u001b[39m\u001b[38;5;124m\\\u001b[39m\u001b[38;5;124mWGU\u001b[39m\u001b[38;5;124m\\\u001b[39m\u001b[38;5;124m209\u001b[39m\u001b[38;5;124m\\\u001b[39m\u001b[38;5;124my_train.csv\u001b[39m\u001b[38;5;124m'\u001b[39m)\n\u001b[0;32m      5\u001b[0m X_test\u001b[38;5;241m.\u001b[39mto_csv(\u001b[38;5;124mr\u001b[39m\u001b[38;5;124m'\u001b[39m\u001b[38;5;124mC:\u001b[39m\u001b[38;5;124m\\\u001b[39m\u001b[38;5;124mUsers\u001b[39m\u001b[38;5;124m\\\u001b[39m\u001b[38;5;124mdanie\u001b[39m\u001b[38;5;124m\\\u001b[39m\u001b[38;5;124mOneDrive\u001b[39m\u001b[38;5;124m\\\u001b[39m\u001b[38;5;124mDesktop\u001b[39m\u001b[38;5;124m\\\u001b[39m\u001b[38;5;124mWGU\u001b[39m\u001b[38;5;124m\\\u001b[39m\u001b[38;5;124m209\u001b[39m\u001b[38;5;124m\\\u001b[39m\u001b[38;5;124mX_test.csv\u001b[39m\u001b[38;5;124m'\u001b[39m)\n",
      "\u001b[1;31mAttributeError\u001b[0m: 'numpy.ndarray' object has no attribute 'to_csv'"
     ]
    }
   ],
   "source": [
    "#Export files\n",
    "\n",
    "X_train.to_csv(r'C:\\Users\\danie\\OneDrive\\Desktop\\WGU\\209\\X_train.csv')\n",
    "y_train.to_csv(r'C:\\Users\\danie\\OneDrive\\Desktop\\WGU\\209\\y_train.csv')\n",
    "X_test.to_csv(r'C:\\Users\\danie\\OneDrive\\Desktop\\WGU\\209\\X_test.csv')\n",
    "y_test.to_csv(r'C:\\Users\\danie\\OneDrive\\Desktop\\WGU\\209\\y_test.csv')"
   ]
  },
  {
   "cell_type": "code",
   "execution_count": null,
   "id": "706528f5-23b0-4e6c-84c9-f9abe1a148f2",
   "metadata": {},
   "outputs": [],
   "source": []
  }
 ],
 "metadata": {
  "kernelspec": {
   "display_name": "Python 3 (ipykernel)",
   "language": "python",
   "name": "python3"
  },
  "language_info": {
   "codemirror_mode": {
    "name": "ipython",
    "version": 3
   },
   "file_extension": ".py",
   "mimetype": "text/x-python",
   "name": "python",
   "nbconvert_exporter": "python",
   "pygments_lexer": "ipython3",
   "version": "3.9.12"
  }
 },
 "nbformat": 4,
 "nbformat_minor": 5
}
